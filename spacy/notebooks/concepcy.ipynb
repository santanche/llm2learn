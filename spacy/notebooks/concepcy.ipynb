{
 "cells": [
  {
   "cell_type": "code",
   "execution_count": null,
   "id": "49c1e040-dbd8-4292-9d6f-bb99c27f55c7",
   "metadata": {
    "trusted": true
   },
   "outputs": [],
   "source": [
    "!pip install concepcy"
   ]
  },
  {
   "cell_type": "code",
   "execution_count": null,
   "id": "ee5ff881-fd2d-4500-8324-aba7a75cf23f",
   "metadata": {
    "trusted": true
   },
   "outputs": [],
   "source": [
    "import spacy\n",
    "import concepcy\n",
    "\n",
    "nlp = spacy.load('en_core_web_sm')\n",
    "# Using default concepCy configuration\n",
    "nlp.add_pipe('concepcy')"
   ]
  },
  {
   "cell_type": "code",
   "execution_count": null,
   "id": "ca936004-db69-4b05-a780-12a5d27f2a76",
   "metadata": {
    "trusted": true
   },
   "outputs": [],
   "source": [
    "doc = nlp('Walter Alvarez discovered evidence of dinosaur extinction near Gubbio, Italy.')\n",
    "\n",
    "# Access all the 'RelatedTo' relations from the Doc\n",
    "for word, relations in doc._.relatedto.items():\n",
    "    print(f'Word: {word} {relations}')\n",
    "\n",
    "# Access the 'RelatedTo' relations word by word\n",
    "for token in doc:\n",
    "    print(f'Word: {token} {token._.relatedto}')"
   ]
  },
  {
   "cell_type": "code",
   "execution_count": null,
   "id": "d052181d-7e76-4e6c-b3a2-97ddaacde11b",
   "metadata": {
    "trusted": true
   },
   "outputs": [],
   "source": [
    "!pip install networkx"
   ]
  },
  {
   "cell_type": "code",
   "execution_count": null,
   "id": "c6887213-9ddc-4c80-b115-f802e34d3782",
   "metadata": {
    "trusted": true
   },
   "outputs": [],
   "source": [
    "!pip install matplotlib"
   ]
  },
  {
   "cell_type": "code",
   "execution_count": null,
   "id": "58dffcc4-e85a-4f2f-a190-6de8801e75ea",
   "metadata": {
    "trusted": true
   },
   "outputs": [],
   "source": [
    "import networkx as nx\n",
    "import matplotlib.pyplot as plt\n",
    "from collections import defaultdict\n",
    "\n",
    "# Process the text\n",
    "doc = nlp('Walter Alvarez discovered evidence of dinosaur extinction near Gubbio, Italy.')\n",
    "\n",
    "# Create a NetworkX graph\n",
    "G = nx.Graph()\n",
    "\n",
    "# Dictionary to store all relations for better organization\n",
    "all_relations = defaultdict(list)\n",
    "\n",
    "# Collect all relations\n",
    "for word, relations in doc._.relatedto.items():\n",
    "    print(f'Word: {word} -> {relations}')\n",
    "    \n",
    "    # Add the main word as a node\n",
    "    G.add_node(word, node_type='source')\n",
    "    \n",
    "    # Add related concepts as nodes and create edges\n",
    "    for related_concept in relations:\n",
    "        # Handle case where related_concept might be a dict\n",
    "        if isinstance(related_concept, dict):\n",
    "            # Extract the concept name/label from the dictionary\n",
    "            concept_name = related_concept.get('label', str(related_concept))\n",
    "            concept_id = related_concept.get('id', concept_name)\n",
    "            \n",
    "            # Use the concept name as the node identifier\n",
    "            G.add_node(concept_name, \n",
    "                      node_type='related',\n",
    "                      concept_id=concept_id,\n",
    "                      full_data=str(related_concept))\n",
    "            G.add_edge(word, concept_name, relation='RelatedTo')\n",
    "            all_relations[word].append(concept_name)\n",
    "            \n",
    "            print(f\"  -> {concept_name} (from: {related_concept})\")\n",
    "        else:\n",
    "            # Handle case where it's already a string\n",
    "            G.add_node(related_concept, node_type='related')\n",
    "            G.add_edge(word, related_concept, relation='RelatedTo')\n",
    "            all_relations[word].append(related_concept)\n",
    "\n",
    "print(f\"\\nGraph info:\")\n",
    "print(f\"Number of nodes: {G.number_of_nodes()}\")\n",
    "print(f\"Number of edges: {G.number_of_edges()}\")\n",
    "\n",
    "# Create the visualization\n",
    "plt.figure(figsize=(15, 10))\n",
    "\n",
    "# Define node positions using spring layout for better visualization\n",
    "pos = nx.spring_layout(G, k=2, iterations=50)\n",
    "\n",
    "# Separate source nodes (original words) from related nodes for different styling\n",
    "source_nodes = [node for node, data in G.nodes(data=True) if data.get('node_type') == 'source']\n",
    "related_nodes = [node for node, data in G.nodes(data=True) if data.get('node_type') == 'related']\n",
    "\n",
    "# Draw the network\n",
    "# Draw source nodes (original words from the text)\n",
    "nx.draw_networkx_nodes(G, pos, nodelist=source_nodes, \n",
    "                      node_color='lightblue', node_size=1500, alpha=0.8)\n",
    "\n",
    "# Draw related nodes (ConceptNet concepts)\n",
    "nx.draw_networkx_nodes(G, pos, nodelist=related_nodes, \n",
    "                      node_color='lightcoral', node_size=800, alpha=0.6)\n",
    "\n",
    "# Draw edges\n",
    "nx.draw_networkx_edges(G, pos, alpha=0.5, edge_color='gray', width=1)\n",
    "\n",
    "# Draw labels\n",
    "nx.draw_networkx_labels(G, pos, font_size=8, font_weight='bold')\n",
    "\n",
    "plt.title(\"ConceptNet 'RelatedTo' Relations Network\\nBlue: Original words, Red: Related concepts\", \n",
    "          fontsize=14, fontweight='bold')\n",
    "plt.axis('off')\n",
    "plt.tight_layout()\n",
    "plt.show()\n",
    "\n",
    "# Print detailed analysis\n",
    "print(\"\\n\" + \"=\"*50)\n",
    "print(\"DETAILED ANALYSIS\")\n",
    "print(\"=\"*50)\n",
    "\n",
    "for word in source_nodes:\n",
    "    related_concepts = list(G.neighbors(word))\n",
    "    print(f\"\\n'{word}' is related to:\")\n",
    "    for i, concept in enumerate(related_concepts, 1):\n",
    "        print(f\"  {i}. {concept}\")\n",
    "\n",
    "# Optional: Save the graph\n",
    "# plt.savefig('conceptnet_relations.png', dpi=300, bbox_inches='tight')\n",
    "\n",
    "# Optional: Create an interactive plot using NetworkX and matplotlib\n",
    "# You can also export to other formats like GEXF for use in Gephi\n",
    "# nx.write_gexf(G, \"conceptnet_relations.gexf\")"
   ]
  }
 ],
 "metadata": {
  "kernelspec": {
   "display_name": "Python 3 (ipykernel)",
   "language": "python",
   "name": "python3"
  },
  "language_info": {
   "codemirror_mode": {
    "name": "ipython",
    "version": 3
   },
   "file_extension": ".py",
   "mimetype": "text/x-python",
   "name": "python",
   "nbconvert_exporter": "python",
   "pygments_lexer": "ipython3",
   "version": "3.10.16"
  }
 },
 "nbformat": 4,
 "nbformat_minor": 5
}
